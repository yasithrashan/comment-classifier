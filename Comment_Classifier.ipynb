{
  "nbformat": 4,
  "nbformat_minor": 0,
  "metadata": {
    "colab": {
      "provenance": [],
      "gpuType": "T4"
    },
    "kernelspec": {
      "name": "python3",
      "display_name": "Python 3"
    },
    "language_info": {
      "name": "python"
    },
    "accelerator": "GPU"
  },
  "cells": [
    {
      "cell_type": "markdown",
      "source": [
        "# Install Libraries"
      ],
      "metadata": {
        "id": "dHvO8JNU5uSr"
      }
    },
    {
      "cell_type": "code",
      "execution_count": null,
      "metadata": {
        "collapsed": true,
        "id": "9ezvXX1o5p6E"
      },
      "outputs": [],
      "source": [
        "!pip install transformers torch torchvision\n",
        "!pip install scikit-learn pandas numpy matplotlib seaborn\n",
        "!pip install nltk wordcloud textblob"
      ]
    },
    {
      "cell_type": "code",
      "source": [
        "import pandas as pd\n",
        "import numpy as np\n",
        "import matplotlib.pyplot as plt\n",
        "import seaborn as sns\n",
        "import re\n",
        "import nltk\n",
        "nltk.download('stopwords')\n",
        "from transformers import pipeline"
      ],
      "metadata": {
        "id": "2tcP9TvL6Iiu"
      },
      "execution_count": null,
      "outputs": []
    },
    {
      "cell_type": "code",
      "source": [
        "df = pd.read_csv('/content/Youtube-Spam-Dataset.csv')\n",
        "print(df)"
      ],
      "metadata": {
        "collapsed": true,
        "id": "oEj9X3VG68x9"
      },
      "execution_count": null,
      "outputs": []
    },
    {
      "cell_type": "code",
      "source": [
        "print(df.shape)"
      ],
      "metadata": {
        "id": "wGDYwSRT7ZnW"
      },
      "execution_count": null,
      "outputs": []
    },
    {
      "cell_type": "markdown",
      "source": [
        "# Text Preprocessing"
      ],
      "metadata": {
        "id": "ZHiC7tuf9ox2"
      }
    },
    {
      "cell_type": "code",
      "source": [
        "def clean_text(text):\n",
        "    if pd.isna(text):\n",
        "        return ''\n",
        "    text = str(text).lower()\n",
        "    text = re.sub(r'http\\S+|www\\S+|https\\S+', '', text)\n",
        "    text = re.sub(r'@\\w+|#\\w+', '', text)\n",
        "    text = re.sub(r'[^a-zA-Z0-9\\s]', '', text)\n",
        "    text = re.sub(r'\\s+', ' ', text).strip()\n",
        "    return text"
      ],
      "metadata": {
        "id": "26sFMAMT9ohc"
      },
      "execution_count": null,
      "outputs": []
    },
    {
      "cell_type": "code",
      "source": [
        "df['CLEAN_CONTENT'] = df['CONTENT'].apply(clean_text)\n",
        "df = df[df['CLEAN_CONTENT'].str.len() > 0]"
      ],
      "metadata": {
        "id": "tbKoA6okKbAs"
      },
      "execution_count": null,
      "outputs": []
    },
    {
      "cell_type": "code",
      "source": [
        "print(df['CLEAN_CONTENT'])"
      ],
      "metadata": {
        "collapsed": true,
        "id": "ICzJM28W_YPX"
      },
      "execution_count": null,
      "outputs": []
    },
    {
      "cell_type": "markdown",
      "source": [
        "# Load Classifier"
      ],
      "metadata": {
        "id": "QEiA3Rq1QQpJ"
      }
    },
    {
      "cell_type": "code",
      "source": [
        "classifier = pipeline('text-classification',model='martin-ha/toxic-comment-model')"
      ],
      "metadata": {
        "id": "i-EJiUPQ_ZQm",
        "collapsed": true
      },
      "execution_count": null,
      "outputs": []
    },
    {
      "cell_type": "code",
      "source": [
        "spam_patterns = [\n",
        "    r'subscribe', r'channel', r'check out', r'follow me',\n",
        "    r'my channel', r'visit', r'website', r'\\.com', r'www'\n",
        "]"
      ],
      "metadata": {
        "id": "N2PURNRSK2V_"
      },
      "execution_count": null,
      "outputs": []
    },
    {
      "cell_type": "code",
      "source": [
        "def create_spam_labels(df):\n",
        "  results = []\n",
        "\n",
        "  for i, content in enumerate(df['CLEAN_CONTENT']):\n",
        "\n",
        "   try:\n",
        "    toxic_result = classifier(content)[0]\n",
        "    toxicity = toxic_result['score'] if toxic_result['label'] == 'TOXIC' else 0\n",
        "\n",
        "    pattern_matches = sum(1 for pattern in spam_patterns\n",
        "                          if re.search(pattern, content , re.IGNORECASE))\n",
        "\n",
        "    if pattern_matches >= 2:\n",
        "        spam_label = 1\n",
        "    elif pattern_matches >= 1 and toxicity > 0.3:\n",
        "        spam_label = 1\n",
        "    elif toxicity > 0.7:\n",
        "        spam_label = 1\n",
        "    else:\n",
        "        spam_label = 0\n",
        "\n",
        "   except:\n",
        "      spam_label = 0\n",
        "\n",
        "   results.append(spam_label)\n",
        "\n",
        "  return results"
      ],
      "metadata": {
        "id": "EJwzVe2FFiyu"
      },
      "execution_count": null,
      "outputs": []
    },
    {
      "cell_type": "code",
      "source": [
        "df['CLASS_LABEL'] = create_spam_labels(df)"
      ],
      "metadata": {
        "id": "nMovn4kuMeQf"
      },
      "execution_count": null,
      "outputs": []
    },
    {
      "cell_type": "code",
      "source": [
        "print(df['category'])"
      ],
      "metadata": {
        "collapsed": true,
        "id": "Ww1EwCCuMk6R"
      },
      "execution_count": null,
      "outputs": []
    },
    {
      "cell_type": "markdown",
      "source": [
        "# Basic Stats"
      ],
      "metadata": {
        "id": "mY8v5QYsOYfd"
      }
    },
    {
      "cell_type": "code",
      "source": [
        "spam_count = (df['CLASS_LABEL'] == 1).sum()\n",
        "clean_count = (df['CLASS_LABEL'] == 0).sum()\n",
        "total_count = len(df)\n",
        "spam_rate = spam_count / total_count * 100"
      ],
      "metadata": {
        "id": "2Y4mKKpBM8MK"
      },
      "execution_count": null,
      "outputs": []
    },
    {
      "cell_type": "code",
      "source": [
        "print(f\"Total: {total_count:,} | Spam: {spam_count:,} ({spam_rate:.1f}%)\")"
      ],
      "metadata": {
        "id": "XdLbAujaOa7m"
      },
      "execution_count": null,
      "outputs": []
    },
    {
      "cell_type": "markdown",
      "source": [
        "# Create Charts"
      ],
      "metadata": {
        "id": "DyjbKrGsPTH1"
      }
    },
    {
      "cell_type": "code",
      "source": [
        "plt.figure(figsize=(15, 5))"
      ],
      "metadata": {
        "id": "q1YQFJTCRMJW"
      },
      "execution_count": null,
      "outputs": []
    },
    {
      "cell_type": "markdown",
      "source": [
        "Pie Chart"
      ],
      "metadata": {
        "id": "w7NTM82QPCkK"
      }
    },
    {
      "cell_type": "code",
      "source": [
        "plt.subplot(1, 2, 1)\n",
        "labels = ['Clean Comments', 'Spam Comments']\n",
        "sizes = [clean_count, spam_count]\n",
        "colors = ['#2ecc71', '#e74c3c']\n",
        "explode = (0, 0.1)"
      ],
      "metadata": {
        "id": "TmQZEkJfO8mL"
      },
      "execution_count": null,
      "outputs": []
    },
    {
      "cell_type": "code",
      "source": [
        "plt.pie(sizes, labels=labels, colors=colors, autopct='%1.1f%%',\n",
        "        startangle=90, explode=explode)\n",
        "plt.title('Comment Distribution', fontweight='bold')"
      ],
      "metadata": {
        "id": "dQ94pFloPGRm"
      },
      "execution_count": null,
      "outputs": []
    }
  ]
}